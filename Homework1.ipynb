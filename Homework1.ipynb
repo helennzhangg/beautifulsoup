{
  "nbformat": 4,
  "nbformat_minor": 0,
  "metadata": {
    "colab": {
      "name": "Homework1.ipynb",
      "provenance": [],
      "authorship_tag": "ABX9TyPpjTcvP5U811HTCmZF3Xng",
      "include_colab_link": true
    },
    "kernelspec": {
      "name": "python3",
      "display_name": "Python 3"
    },
    "language_info": {
      "name": "python"
    }
  },
  "cells": [
    {
      "cell_type": "markdown",
      "metadata": {
        "id": "view-in-github",
        "colab_type": "text"
      },
      "source": [
        "<a href=\"https://colab.research.google.com/github/helennzhangg/beautifulsoup/blob/main/Homework1.ipynb\" target=\"_parent\"><img src=\"https://colab.research.google.com/assets/colab-badge.svg\" alt=\"Open In Colab\"/></a>"
      ]
    },
    {
      "cell_type": "code",
      "source": [
        "#Helen Zhang \n",
        "#CIS 3120 \n",
        "#Homework 1"
      ],
      "metadata": {
        "id": "kIx82bQmn1RW"
      },
      "execution_count": null,
      "outputs": []
    },
    {
      "cell_type": "code",
      "execution_count": null,
      "metadata": {
        "id": "h185I4F4QNZ7"
      },
      "outputs": [],
      "source": [
        "#start webscraping with BeautifulSoup\n",
        "from bs4 import BeautifulSoup \n",
        "import requests"
      ]
    },
    {
      "cell_type": "code",
      "source": [
        "#creating a dictionary with all the urls for mens swimming + volleyball and womens swimming + volleyball\n",
        "SportsTeams = { \n",
        "              \"Men's Swim Team\" : 'https://athletics.baruch.cuny.edu/sports/mens-swimming-and-diving/roster',\n",
        "              \"Men's Volleyball Team\": 'https://athletics.baruch.cuny.edu/sports/mens-volleyball/roster',\n",
        "              \"Women's Swim Team\" : 'https://athletics.baruch.cuny.edu/sports/womens-swimming-and-diving/roster',\n",
        "              \"Women's Volleyball Team\" : 'https://athletics.baruch.cuny.edu/sports/womens-volleyball/roster'\n",
        "              }\n"
      ],
      "metadata": {
        "id": "OxLHL1IsQSTi"
      },
      "execution_count": null,
      "outputs": []
    },
    {
      "cell_type": "code",
      "source": [
        "#creating a function to get data from urls \n",
        "def GetData(TeamType, url):\n",
        "  #creating an empty list\n",
        "  RawHeights = []\n",
        "  #requesting data from urls\n",
        "  data = requests.get(url)\n",
        "  #collecting from html\n",
        "  soup = BeautifulSoup(data.content, 'html.parser')\n",
        "  #collecting with the class of height\n",
        "  heights = soup.find_all('td', class_ = 'height')\n",
        "  \n",
        "  #creating a loop for height averages \n",
        "  for height in heights:\n",
        "    #splitting the heights with - to seperate the list \n",
        "    y = height.get_text().split(\"-\")\n",
        "\n",
        "    #the feet is the first element [0] of the list\n",
        "    feet = y[0]\n",
        "    #the feet is the second element [1] of the list\n",
        "    inch = y[1]\n",
        "    \n",
        "    #converting the inches + feet into a float/int for the average \n",
        "    inch = float(inch)\n",
        "    FeetInInches = float(feet) * 12\n",
        "    \n",
        "    total = FeetInInches + inch \n",
        "\n",
        "    #appending to add on heights if needed in the future \n",
        "    RawHeights.append(total)\n",
        "\n",
        "  #Average formula \n",
        "  AvgHeight = sum(RawHeights) / len(RawHeights)\n",
        "  #printing final statement \n",
        "  #rounded the final average height to the first two decimals \n",
        "  print(f'The average height for the {TeamType} is {AvgHeight:.2f} inches')"
      ],
      "metadata": {
        "id": "3dPXNCqnQ0zI"
      },
      "execution_count": null,
      "outputs": []
    },
    {
      "cell_type": "code",
      "source": [
        "#recalling GetData function with items in SportsTeams \n",
        "for key, value in SportsTeams.items():\n",
        "  GetData(key, value)"
      ],
      "metadata": {
        "colab": {
          "base_uri": "https://localhost:8080/"
        },
        "id": "0TiJFY9-RlxQ",
        "outputId": "adfbc5fc-ac54-4336-fddc-4fbcfe3fd207"
      },
      "execution_count": null,
      "outputs": [
        {
          "output_type": "stream",
          "name": "stdout",
          "text": [
            "The average height for the Men's Swim Team is 71.53 inches\n",
            "The average height for the Men's Volleyball Team is 73.27 inches\n",
            "The average height for the Women's Swim Team is 64.00 inches\n",
            "The average height for the Women's Volleyball Team is 65.33 inches\n"
          ]
        }
      ]
    }
  ]
}